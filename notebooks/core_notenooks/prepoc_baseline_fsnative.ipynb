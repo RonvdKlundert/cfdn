{
 "cells": [
  {
   "cell_type": "markdown",
   "id": "f3d8a121-62f8-4039-ad91-95414eb46ffd",
   "metadata": {},
   "source": [
    "# fit GLM for bold baselining"
   ]
  },
  {
   "cell_type": "code",
   "execution_count": 1,
   "id": "15f3b00f-8697-474a-b1d8-d3fa600679f2",
   "metadata": {},
   "outputs": [],
   "source": [
    "%load_ext autoreload\n",
    "%autoreload 2"
   ]
  },
  {
   "cell_type": "code",
   "execution_count": 2,
   "id": "cc8f50f4-1206-4ce0-8c10-4e11154433ab",
   "metadata": {},
   "outputs": [],
   "source": [
    "import sys\n",
    "sys.path.append('/tank/klundert/projects/cfdn/prfpy_cfdn/')\n",
    "import os\n",
    "import numpy as np\n",
    "import preprocess\n",
    "import cortex as cx\n",
    "import numpy as np\n",
    "import scipy as sp\n",
    "import nilearn as nl\n",
    "from nilearn.surface import load_surf_data\n",
    "import os, shutil, urllib.request\n",
    "import cortex as cx\n",
    "from matplotlib import rc\n",
    "import nibabel as nb\n",
    "from nibabel import cifti2\n",
    "import h5py\n",
    "import matplotlib.pyplot as plt"
   ]
  },
  {
   "cell_type": "code",
   "execution_count": 37,
   "id": "95f6de23-f71e-4d86-935b-13d3b4d25698",
   "metadata": {},
   "outputs": [],
   "source": [
    "subject = 'sub-02'\n",
    "deriv_dir = '/scratch/2021/nprf_ss/derivatives/'\n",
    "scalar_dir = '/tank/klundert/projects/means_native/'\n",
    "ldtr_dir = '/tank/klundert/projects/detrend_psc_native/'\n",
    "sbj = preprocess.participant(subject, deriv_dir, scalar_dir, ldtr_dir)"
   ]
  },
  {
   "cell_type": "code",
   "execution_count": 38,
   "id": "ae2ac40d-ecd4-4aa1-8f15-d80769d0a84c",
   "metadata": {},
   "outputs": [
    {
     "name": "stderr",
     "output_type": "stream",
     "text": [
      "/tank/klundert/projects/cfdn/prfpy_cfdn/preprocess.py:203: RuntimeWarning: invalid value encountered in divide\n",
      "  psc_data = ((ldt_data - baseline) / baseline) * 100\n"
     ]
    }
   ],
   "source": [
    "sbj.sessions\n",
    "X_conv = np.array([np.ones(115), np.arange(115)]).T\n",
    "# idx_baseline = np.array([  0,   1,   2,   3,   4,   5,   6,   7,   8,   9,  10,  11,  12,\n",
    "#         13,  14,  15,  16,  61,  62,  63,  64,  65,  66,  67,  68, 113,\n",
    "#        114, 115, 116, 117, 118, 119])\n",
    "\n",
    "# all TR indices where there is no stimulus on the screen excluding first 5\n",
    "idx_baseline = np.array([5,   6,   7,   8,   9,  10,  11,  12,\n",
    "        13,  14,  15,  16,  61,  62,  63,  64,  65,  66,  67,  68, 113,\n",
    "       114, 115, 116, 117, 118, 119])-5 \n",
    "sbj.linear_detrend_psc_native(X_conv, idx_baseline, 5)"
   ]
  },
  {
   "cell_type": "code",
   "execution_count": 39,
   "id": "8cde78d5-41b2-4f78-bfb5-5b8991d84ad5",
   "metadata": {},
   "outputs": [
    {
     "data": {
      "text/plain": [
       "'/scratch/2021/nprf_ss/derivatives/fmriprep/sub-02'"
      ]
     },
     "execution_count": 39,
     "metadata": {},
     "output_type": "execute_result"
    }
   ],
   "source": [
    "sbj.prep_dir"
   ]
  },
  {
   "cell_type": "code",
   "execution_count": 40,
   "id": "df8f4e9a-0071-4de9-b7f6-c8c780baddd5",
   "metadata": {},
   "outputs": [],
   "source": [
    "sbj.get_scalars_native()"
   ]
  },
  {
   "cell_type": "code",
   "execution_count": 44,
   "id": "1f17c514-3feb-45f9-b93b-67df39d3f487",
   "metadata": {},
   "outputs": [
    {
     "data": {
      "text/plain": [
       "'sub-02'"
      ]
     },
     "execution_count": 44,
     "metadata": {},
     "output_type": "execute_result"
    }
   ],
   "source": [
    "sbj.subject"
   ]
  },
  {
   "cell_type": "code",
   "execution_count": 45,
   "id": "c90b5c92-3dee-4ab3-ba81-dfca96dc7f16",
   "metadata": {},
   "outputs": [
    {
     "name": "stdout",
     "output_type": "stream",
     "text": [
      "processing ses-01\n",
      "processing ses-02\n",
      "processing ses-03\n",
      "processing ses-04\n"
     ]
    },
    {
     "name": "stderr",
     "output_type": "stream",
     "text": [
      "/tank/klundert/projects/cfdn/prfpy_cfdn/preprocess.py:355: RuntimeWarning: Mean of empty slice\n",
      "  self.data_train = np.nanmean(np.array(data[::2]), axis=0)\n",
      "/tank/klundert/projects/cfdn/prfpy_cfdn/preprocess.py:356: RuntimeWarning: Mean of empty slice\n",
      "  self.data_test = np.nanmean(np.array(data[1::2]), axis=0)\n"
     ]
    }
   ],
   "source": [
    "\n",
    "sbj.get_folds_detrend_native(remove_edge=True)"
   ]
  },
  {
   "cell_type": "code",
   "execution_count": 46,
   "id": "d6850649-5b3d-4678-8670-ea1b98c3e608",
   "metadata": {},
   "outputs": [
    {
     "data": {
      "text/plain": [
       "46"
      ]
     },
     "execution_count": 46,
     "metadata": {},
     "output_type": "execute_result"
    }
   ],
   "source": [
    "all_data = list(sbj.data)\n",
    "if subject == 'sub-02':\n",
    "    print(len(all_data))\n",
    "else:\n",
    "    print(len(all_data))\n",
    "    del all_data[8]\n",
    "    del all_data[6]\n",
    "    print(len(all_data))\n"
   ]
  },
  {
   "cell_type": "code",
   "execution_count": 47,
   "id": "fb4aa4a0-6707-4cef-9796-0137119acba0",
   "metadata": {},
   "outputs": [
    {
     "name": "stderr",
     "output_type": "stream",
     "text": [
      "/tmp/ipykernel_1618852/16644560.py:1: RuntimeWarning: Mean of empty slice\n",
      "  data_train = np.nanmean(np.array(all_data[::2]), axis=0)\n",
      "/tmp/ipykernel_1618852/16644560.py:2: RuntimeWarning: Mean of empty slice\n",
      "  data_test = np.nanmean(np.array(all_data[1::2]), axis=0)\n",
      "/tmp/ipykernel_1618852/16644560.py:4: RuntimeWarning: Mean of empty slice\n",
      "  mean_all = np.nanmean(np.array(all_data), axis=0)\n"
     ]
    }
   ],
   "source": [
    "data_train = np.nanmean(np.array(all_data[::2]), axis=0)\n",
    "data_test = np.nanmean(np.array(all_data[1::2]), axis=0)\n",
    "\n",
    "mean_all = np.nanmean(np.array(all_data), axis=0)\n",
    "\n",
    "np.save(f'/tank/klundert/projects/fsnative_data/sub-02/data_fold1_detrend_{subject}_psc_fsnative.npy', data_train)\n",
    "np.save(f'/tank/klundert/projects/fsnative_data/sub-02/data_fold2_detrend_{subject}_psc_fsnative.npy', data_test)\n",
    "np.save(f'/tank/klundert/projects/fsnative_data/sub-02/data_all_detrend_{subject}_psc_fsnative.npy', mean_all)"
   ]
  }
 ],
 "metadata": {
  "kernelspec": {
   "display_name": "Python 3 (ipykernel)",
   "language": "python",
   "name": "python3"
  },
  "language_info": {
   "codemirror_mode": {
    "name": "ipython",
    "version": 3
   },
   "file_extension": ".py",
   "mimetype": "text/x-python",
   "name": "python",
   "nbconvert_exporter": "python",
   "pygments_lexer": "ipython3",
   "version": "3.10.6"
  }
 },
 "nbformat": 4,
 "nbformat_minor": 5
}
