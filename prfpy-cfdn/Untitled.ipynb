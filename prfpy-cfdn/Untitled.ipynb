{
 "cells": [
  {
   "cell_type": "code",
   "execution_count": 5,
   "metadata": {},
   "outputs": [
    {
     "name": "stdout",
     "output_type": "stream",
     "text": [
      "The autoreload extension is already loaded. To reload it, use:\n",
      "  %reload_ext autoreload\n"
     ]
    }
   ],
   "source": [
    "%load_ext autoreload\n",
    "%autoreload 2"
   ]
  },
  {
   "cell_type": "code",
   "execution_count": 20,
   "metadata": {},
   "outputs": [],
   "source": [
    "import fit\n",
    "import os\n",
    "import numpy as np"
   ]
  },
  {
   "cell_type": "code",
   "execution_count": null,
   "metadata": {},
   "outputs": [],
   "source": [
    "miles = fit.Dog('mile', 4)"
   ]
  },
  {
   "cell_type": "code",
   "execution_count": null,
   "metadata": {},
   "outputs": [],
   "source": [
    "miles.description()"
   ]
  },
  {
   "cell_type": "code",
   "execution_count": 11,
   "metadata": {},
   "outputs": [],
   "source": [
    "subject = 'sub-02'\n",
    "deriv_dir = '/scratch/2021/nprf_ss/derivatives/'\n",
    "scalar_dir = '/tank/klundert/projects/means/'\n",
    "sub = fit.participant(subject, deriv_dir, scalar_dir)"
   ]
  },
  {
   "cell_type": "code",
   "execution_count": null,
   "metadata": {},
   "outputs": [],
   "source": [
    "sub.__dict__"
   ]
  },
  {
   "cell_type": "code",
   "execution_count": null,
   "metadata": {},
   "outputs": [],
   "source": [
    "sub.get_scalars()"
   ]
  },
  {
   "cell_type": "code",
   "execution_count": null,
   "metadata": {},
   "outputs": [],
   "source": [
    "import nibabel as nb\n",
    "import numpy as np\n",
    "i = 0\n",
    "for run in range(12):\n",
    "    i = i+1\n",
    "    run = run+1\n",
    "    datvolm = nb.load(f'/tank/klundert/projects/means/sub-01/sub-01_ses-02_task-prf_run-{i}_mean.scalar.nii')\n",
    "    mean = np.asanyarray(datvolm.dataobj)\n",
    "    \n",
    "    datvolm2 = nb.load(f'/tank/klundert/projects/means2/sub-01/sub-01_ses-02_task-prf_run-{i}_mean.scalar.nii')\n",
    "    mean2 = np.asanyarray(datvolm2.dataobj)\n",
    "    print((mean == mean2).mean())"
   ]
  },
  {
   "cell_type": "code",
   "execution_count": null,
   "metadata": {},
   "outputs": [],
   "source": [
    "import nibabel as nb\n",
    "import numpy as np\n",
    "from nibabel import cifti2\n",
    "def write_newcifti(filename, old_cifti, data_arr):\n",
    "    \"\"\"\n",
    "    Saves a CIFTI file that has a new size of timepoints\n",
    "    Parameters\n",
    "    ----------\n",
    "    filename : str\n",
    "        name of output CIFTI file\n",
    "    old_cifti : CIFTI file\n",
    "        previous nibabel.cifti2.cifti2.Cifti2Image\n",
    "    data_arr : array\n",
    "        data to be stored as vector or matrix (shape: n_timepoints x n_voxels)\n",
    "        or a scalar value for each voxel (shape: n_voxels)\n",
    "    \"\"\"\n",
    "\n",
    "    # in case of data_arr where you have one value for each voxel (e.g. std for each voxel)\n",
    "    if len(data_arr.shape) == 1: \n",
    "        matrix = cifti2.Cifti2Matrix()\n",
    "        brain_model = old_cifti.header.get_axis(1)\n",
    "        matrix.append(brain_model.to_mapping(0))\n",
    "        newheader = cifti2.Cifti2Header(matrix)\n",
    "        img = cifti2.Cifti2Image(data_arr, newheader)\n",
    "        img.to_filename(filename)\n",
    "        \n",
    "    # in case of same or different 2 dimensional shape (e.g. removing first 3 TR of timeseries)\n",
    "    else:\n",
    "        start = old_cifti.header.get_axis(0).start\n",
    "        step = old_cifti.header.get_axis(0).step\n",
    "        brain_model = old_cifti.header.get_axis(1)  \n",
    "        size = data_arr.shape[0]\n",
    "        series = cifti2.SeriesAxis(start, step, size)\n",
    "        brain_model = old_cifti.header.get_axis(1)\n",
    "        newheader = cifti2.Cifti2Header.from_axes((series, brain_model))\n",
    "\n",
    "        img = cifti2.Cifti2Image(data_arr, newheader)\n",
    "        img.to_filename(filename)\n",
    "    \n",
    "    \n",
    "    \n",
    "datvol = nb.load('/scratch/2021/nprf_ss/derivatives/fmriprep/sub-01/ses-01/func/sub-01_ses-01_task-prf_run-10_space-fsLR_den-170k_bold.dtseries.nii')\n",
    "dat = np.asanyarray(datvol.dataobj)\n",
    "write_newcifti('/tank/klundert/check2.nii', datvol, dat[10:120])"
   ]
  },
  {
   "cell_type": "code",
   "execution_count": null,
   "metadata": {},
   "outputs": [],
   "source": [
    "datvol = nb.load('/tank/klundert/check2.nii')\n",
    "dat = np.asanyarray(datvol.dataobj)\n",
    "dat.shape"
   ]
  },
  {
   "cell_type": "code",
   "execution_count": 12,
   "metadata": {},
   "outputs": [
    {
     "name": "stderr",
     "output_type": "stream",
     "text": [
      "/tank/klundert/anaconda3/lib/python3.7/site-packages/scipy/sparse/linalg/dsolve/linsolve.py:318: SparseEfficiencyWarning: splu requires CSC matrix format\n",
      "  warn('splu requires CSC matrix format', SparseEfficiencyWarning)\n",
      "/tank/klundert/projects/cfdn/prfpy-cfdn/fit.py:177: RuntimeWarning: Mean of empty slice\n",
      "  self.data_train = np.nanmean(np.array(data[::2]), axis=0)\n",
      "/tank/klundert/projects/cfdn/prfpy-cfdn/fit.py:178: RuntimeWarning: Mean of empty slice\n",
      "  self.data_test = np.nanmean(np.array(data[1::2]), axis=0)\n"
     ]
    }
   ],
   "source": [
    "sub.get_folds(remove_edge=True)"
   ]
  },
  {
   "cell_type": "code",
   "execution_count": null,
   "metadata": {},
   "outputs": [],
   "source": [
    "import numpy as np\n",
    "np.shape(sub.data)"
   ]
  },
  {
   "cell_type": "code",
   "execution_count": 21,
   "metadata": {},
   "outputs": [],
   "source": [
    "import h5py\n",
    "idxs = h5py.File('/tank/shared/timeless/atlases/cifti_indices.hdf5', \"r\")\n",
    "lidxs = np.array(idxs['Left_indices'])\n",
    "ridxs = np.array(idxs['Right_indices'])\n",
    "allidxs = np.concatenate([lidxs, ridxs])\n",
    "def get_cortex(dat):\n",
    "    l, r, = dat[lidxs], dat[ridxs]\n",
    "\n",
    "    # Replace the minus 1\n",
    "    l[lidxs == -1] = np.zeros_like(l[lidxs == -1])\n",
    "    r[ridxs == -1] = np.zeros_like(r[ridxs == -1])\n",
    "\n",
    "    # Last dimension time.\n",
    "    # l, r = l.T, r.T\n",
    "\n",
    "    data = np.concatenate([l, r])\n",
    "    return data"
   ]
  },
  {
   "cell_type": "code",
   "execution_count": null,
   "metadata": {},
   "outputs": [],
   "source": [
    "# np.shape(sub.data[::2])\n",
    "\n",
    "np.nanmean(np.array(sub.data[::2]), axis=0).shape"
   ]
  },
  {
   "cell_type": "code",
   "execution_count": null,
   "metadata": {},
   "outputs": [],
   "source": [
    "import cortex as cx\n",
    "f = cx.quickshow(cx.Vertex(get_cortex(np.nanmean(np.array(sub.data[::2]), axis=0)).mean(axis=1), subject='hcp_999999', cmap='inferno'), with_curvature=True);\n"
   ]
  },
  {
   "cell_type": "code",
   "execution_count": 22,
   "metadata": {},
   "outputs": [],
   "source": [
    "from nilearn.surface import load_surf_data\n",
    "import os\n",
    "\n",
    "roi_index_dict = {\n",
    "    # somatosensory:\n",
    "    'CS1_4': 8, 'CS2_3a': 53, 'CS3_3b': 9, 'CS4_1': 51, 'CS5_2': 52,\n",
    "    # auditory:\n",
    "    'A1': 24, 'PBelt': 124, 'MBelt': 173, 'LBelt': 174, '52': 103, 'RI': 104,\n",
    "    # low-level visual:\n",
    "    'V1': 1, 'V2': 4, 'V3': 5,\n",
    "    # mid-level and high-level visual:\n",
    "    'V3A': 13, 'V3B': 19, 'IPS1': 17, 'LIPv': 48, 'LIPd': 95, \n",
    "    'VIP': 49, 'FEF': 10, 'MST': 2, 'MT': 23, 'LO1': 20, 'LO2': 21, 'LO3': 159\n",
    "    }\n",
    "\n",
    "atlas_data = np.concatenate([load_surf_data(\n",
    "        os.path.join('/tank/klundert/content/data/atlas', f'Q1-Q6_RelatedParcellation210.CorticalAreas_dil_Colors.59k_fs_LR.dlabel.{hemi}.gii'))\n",
    "         for hemi in ['L', 'R']])\n",
    "atlas_data_both_hemis = np.mod(atlas_data, 180)\n",
    "\n",
    "\n",
    "ind = np.array(list(roi_index_dict.values()))[12:]\n",
    "boolmask = atlas_data_both_hemis == roi_index_dict['LO1']"
   ]
  },
  {
   "cell_type": "code",
   "execution_count": 25,
   "metadata": {},
   "outputs": [
    {
     "data": {
      "text/plain": [
       "[<matplotlib.lines.Line2D at 0x155502583a50>]"
      ]
     },
     "execution_count": 25,
     "metadata": {},
     "output_type": "execute_result"
    },
    {
     "data": {
      "image/png": "[encoded data removed]",
      "text/plain": [
       "<Figure size 432x288 with 1 Axes>"
      ]
     },
     "metadata": {
      "needs_background": "light"
     },
     "output_type": "display_data"
    }
   ],
   "source": [
    "import matplotlib.pyplot as plt\n",
    "# get_cortex(np.nanmean(np.array(sub.data[::2]), axis=0)).shape\n",
    "# plt.plot()\n",
    "plt.plot(get_cortex(s2_f)[boolmask].mean(axis=0))"
   ]
  },
  {
   "cell_type": "code",
   "execution_count": 24,
   "metadata": {},
   "outputs": [],
   "source": [
    "s2_f = np.load(f\"/scratch/2021/nprf_ss/derivatives/Scalars/sub-02/sub-02_task-prf_space-fsLR_den-170k_desc-preproc_mean_timecourse_train_full_zsc.npy\")\n"
   ]
  },
  {
   "cell_type": "code",
   "execution_count": 27,
   "metadata": {},
   "outputs": [
    {
     "data": {
      "text/plain": [
       "[<matplotlib.lines.Line2D at 0x155501f2a6d0>]"
      ]
     },
     "execution_count": 27,
     "metadata": {},
     "output_type": "execute_result"
    },
    {
     "data": {
      "image/png": "[encoded data removed]",
      "text/plain": [
       "<Figure size 432x288 with 1 Axes>"
      ]
     },
     "metadata": {
      "needs_background": "light"
     },
     "output_type": "display_data"
    }
   ],
   "source": [
    "plt.plot(get_cortex(sub.data_test)[boolmask].mean(axis=0))"
   ]
  }
 ],
 "metadata": {
  "kernelspec": {
   "display_name": "Python 3",
   "language": "python",
   "name": "python3"
  },
  "language_info": {
   "codemirror_mode": {
    "name": "ipython",
    "version": 3
   },
   "file_extension": ".py",
   "mimetype": "text/x-python",
   "name": "python",
   "nbconvert_exporter": "python",
   "pygments_lexer": "ipython3",
   "version": "3.7.11"
  }
 },
 "nbformat": 4,
 "nbformat_minor": 2
}
